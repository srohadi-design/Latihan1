{
 "cells": [
  {
   "cell_type": "code",
   "execution_count": 1,
   "metadata": {},
   "outputs": [],
   "source": [
    "import numpy"
   ]
  },
  {
   "cell_type": "code",
   "execution_count": 2,
   "metadata": {},
   "outputs": [],
   "source": [
    "import numpy as np"
   ]
  },
  {
   "cell_type": "code",
   "execution_count": 4,
   "metadata": {},
   "outputs": [],
   "source": [
    "a = np.array([[0,6,12,18,24],[32,38,44,50,56],[62,68,74,80,86],[92,98,104,110,116],[122,128,1341,140,146]])"
   ]
  },
  {
   "cell_type": "code",
   "execution_count": 5,
   "metadata": {},
   "outputs": [
    {
     "data": {
      "text/plain": [
       "array([[   0,    6,   12,   18,   24],\n",
       "       [  32,   38,   44,   50,   56],\n",
       "       [  62,   68,   74,   80,   86],\n",
       "       [  92,   98,  104,  110,  116],\n",
       "       [ 122,  128, 1341,  140,  146]])"
      ]
     },
     "execution_count": 5,
     "metadata": {},
     "output_type": "execute_result"
    }
   ],
   "source": [
    "a"
   ]
  },
  {
   "cell_type": "code",
   "execution_count": 10,
   "metadata": {},
   "outputs": [],
   "source": [
    "nama_1 = 'supri'\n",
    "nama_2 = 'yanto'\n",
    "nama_3 = 'rohadi'\n",
    "dimensi_1 = len(nama_1)\n",
    "dimensi_2 = len(nama_2)\n",
    "step = len(nama_3)\n",
    "z = np.arange(0,step*dimensi_2,step)\n",
    "array_placeholder = np.array([])\n",
    "for i in range(dimensi_1):\n",
    "    array_placeholder = np.append(array_placeholder,z)"
   ]
  },
  {
   "cell_type": "code",
   "execution_count": 11,
   "metadata": {},
   "outputs": [
    {
     "name": "stdout",
     "output_type": "stream",
     "text": [
      "[ 0  6 12 18 24]\n"
     ]
    }
   ],
   "source": [
    "print (z)"
   ]
  },
  {
   "cell_type": "code",
   "execution_count": 12,
   "metadata": {},
   "outputs": [
    {
     "name": "stdout",
     "output_type": "stream",
     "text": [
      "[ 0.  6. 12. 18. 24.  0.  6. 12. 18. 24.  0.  6. 12. 18. 24.  0.  6. 12.\n",
      " 18. 24.  0.  6. 12. 18. 24.]\n"
     ]
    }
   ],
   "source": [
    "print (array_placeholder)"
   ]
  },
  {
   "cell_type": "code",
   "execution_count": 13,
   "metadata": {},
   "outputs": [
    {
     "data": {
      "text/plain": [
       "array([[ 0.,  6., 12., 18., 24.],\n",
       "       [ 0.,  6., 12., 18., 24.],\n",
       "       [ 0.,  6., 12., 18., 24.],\n",
       "       [ 0.,  6., 12., 18., 24.],\n",
       "       [ 0.,  6., 12., 18., 24.]])"
      ]
     },
     "execution_count": 13,
     "metadata": {},
     "output_type": "execute_result"
    }
   ],
   "source": [
    "array_placeholder.reshape(dimensi_1,dimensi_2)"
   ]
  },
  {
   "cell_type": "code",
   "execution_count": null,
   "metadata": {},
   "outputs": [],
   "source": []
  }
 ],
 "metadata": {
  "kernelspec": {
   "display_name": "Python 3",
   "language": "python",
   "name": "python3"
  },
  "language_info": {
   "codemirror_mode": {
    "name": "ipython",
    "version": 3
   },
   "file_extension": ".py",
   "mimetype": "text/x-python",
   "name": "python",
   "nbconvert_exporter": "python",
   "pygments_lexer": "ipython3",
   "version": "3.8.5"
  }
 },
 "nbformat": 4,
 "nbformat_minor": 4
}
