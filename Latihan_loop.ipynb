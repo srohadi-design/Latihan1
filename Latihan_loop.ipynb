{
 "cells": [
  {
   "cell_type": "markdown",
   "metadata": {},
   "source": [
    "# if"
   ]
  },
  {
   "cell_type": "code",
   "execution_count": 28,
   "metadata": {},
   "outputs": [
    {
     "name": "stdout",
     "output_type": "stream",
     "text": [
      "masukkan a:3\n",
      "masukkan b:7\n",
      "b>a\n"
     ]
    }
   ],
   "source": [
    "a = float(input(\"masukkan a:\"))\n",
    "b = float(input(\"masukkan b:\"))\n",
    "if b > a:\n",
    "    print(\"b>a\")\n",
    "if b < a:\n",
    "    print(\"b<a\")"
   ]
  },
  {
   "cell_type": "markdown",
   "metadata": {},
   "source": [
    "# if - else"
   ]
  },
  {
   "cell_type": "code",
   "execution_count": 30,
   "metadata": {},
   "outputs": [
    {
     "name": "stdout",
     "output_type": "stream",
     "text": [
      "masukkan a:2\n",
      "masukkan b:5\n",
      "b>a\n"
     ]
    }
   ],
   "source": [
    "a = float(input(\"masukkan a:\"))\n",
    "b = float(input(\"masukkan b:\"))\n",
    "if b < a:\n",
    "    print(\"b<a\")\n",
    "else:\n",
    "    print(\"b>a\")"
   ]
  },
  {
   "cell_type": "markdown",
   "metadata": {},
   "source": [
    "# If - elif - else"
   ]
  },
  {
   "cell_type": "markdown",
   "metadata": {},
   "source": [
    "a = float(input(\"masukkan a:\"))\n",
    "b = float(input(\"masukkan b:\"))\n",
    "if b > a:\n",
    "    print(\"b lebih besar\")\n",
    "elif a == b:\n",
    "    print(\"a sama dengan b\")\n",
    "else:\n",
    "    print(\"a leih besar\")\n",
    "    "
   ]
  },
  {
   "cell_type": "code",
   "execution_count": 1,
   "metadata": {},
   "outputs": [
    {
     "name": "stdout",
     "output_type": "stream",
     "text": [
      "masukan nilai:60\n",
      "C\n"
     ]
    }
   ],
   "source": [
    "a = int(input(\"masukan nilai:\"))\n",
    "if a >= 90:\n",
    "    print(\"A\")\n",
    "elif a >= 70 and a <= 90:\n",
    "    print (\"B\")\n",
    "elif a >= 50 and a <= 70:\n",
    "    print(\"C\")\n",
    "else:\n",
    "    print(\"D\")\n"
   ]
  },
  {
   "cell_type": "markdown",
   "metadata": {},
   "source": [
    "# nested if"
   ]
  },
  {
   "cell_type": "code",
   "execution_count": 1,
   "metadata": {},
   "outputs": [
    {
     "name": "stdout",
     "output_type": "stream",
     "text": [
      "6\n",
      "outside all\n"
     ]
    }
   ],
   "source": [
    "a = int(input())\n",
    "if a > 10:\n",
    "    print(\"lebih besar 10\")\n",
    "    if a > 20:\n",
    "        print(\"lebih besar 20\")\n",
    "    else:\n",
    "        print(\"<=20\")\n",
    "print(\"outside all\")\n",
    "    "
   ]
  },
  {
   "cell_type": "code",
   "execution_count": 3,
   "metadata": {},
   "outputs": [
    {
     "data": {
      "text/plain": [
       "'\\nmuti komen.\\napa yg di komen.\\nsulit\\n'"
      ]
     },
     "execution_count": 3,
     "metadata": {},
     "output_type": "execute_result"
    }
   ],
   "source": [
    "# Single line comment\n",
    "\"\"\"\n",
    "muti komen.\n",
    "apa yg di komen.\n",
    "sulit\n",
    "\"\"\""
   ]
  },
  {
   "cell_type": "code",
   "execution_count": 7,
   "metadata": {},
   "outputs": [
    {
     "name": "stdout",
     "output_type": "stream",
     "text": [
      "238\n",
      "b genap\n"
     ]
    }
   ],
   "source": [
    "a = 238.915\n",
    "b = int(a)\n",
    "print(b)\n",
    "if b%2 == 0:\n",
    "    print(\"b genap\")\n",
    "else:\n",
    "    print(\"b ganjil\")"
   ]
  },
  {
   "cell_type": "code",
   "execution_count": 5,
   "metadata": {},
   "outputs": [
    {
     "name": "stdout",
     "output_type": "stream",
     "text": [
      "238\n"
     ]
    }
   ],
   "source": [
    "print(b)"
   ]
  },
  {
   "cell_type": "markdown",
   "metadata": {},
   "source": [
    "# while - loop"
   ]
  },
  {
   "cell_type": "code",
   "execution_count": 9,
   "metadata": {},
   "outputs": [
    {
     "name": "stdout",
     "output_type": "stream",
     "text": [
      "6\n",
      "1\n",
      "This is iteration: 1\n",
      "4\n",
      "This is iteration: 2\n",
      "9\n",
      "This is iteration: 3\n",
      "16\n",
      "This is iteration: 4\n",
      "25\n",
      "This is iteration: 5\n"
     ]
    }
   ],
   "source": [
    "n = int(input())\n",
    "i = 1\n",
    "while i < n:\n",
    "    print(i**2)\n",
    "    print(\"This is iteration:\",i)\n",
    "    i+=1#i = i +1"
   ]
  },
  {
   "cell_type": "markdown",
   "metadata": {},
   "source": [
    "# while - if - else"
   ]
  },
  {
   "cell_type": "code",
   "execution_count": 22,
   "metadata": {},
   "outputs": [
    {
     "name": "stdout",
     "output_type": "stream",
     "text": [
      "outside\n",
      "outside\n",
      "outside\n",
      "outside\n",
      "outside\n",
      "outside\n",
      "outside\n",
      "outside\n",
      "inside\n",
      "done\n"
     ]
    }
   ],
   "source": [
    "n = 10\n",
    "i = 1\n",
    "while True:\n",
    "    if i%9 ==0:\n",
    "        print(\"inside\")\n",
    "        break\n",
    "    else:\n",
    "        print(\"outside\")\n",
    "        i = i+1\n",
    "print(\"done\")"
   ]
  },
  {
   "cell_type": "markdown",
   "metadata": {},
   "source": [
    "# for - loop"
   ]
  },
  {
   "cell_type": "code",
   "execution_count": 26,
   "metadata": {},
   "outputs": [
    {
     "name": "stdout",
     "output_type": "stream",
     "text": [
      "0\n",
      "1\n",
      "2\n",
      "3\n",
      "4\n",
      "5\n",
      "6\n",
      "7\n",
      "8\n",
      "9\n",
      "[0, 1, 4, 9, 16, 25, 36, 49, 64, 81]\n"
     ]
    }
   ],
   "source": [
    "L = []\n",
    "for i in range(10):\n",
    "    print(i)\n",
    "    L.append(i**2)\n",
    "print(L)"
   ]
  },
  {
   "cell_type": "code",
   "execution_count": 27,
   "metadata": {},
   "outputs": [
    {
     "name": "stdout",
     "output_type": "stream",
     "text": [
      "2\n",
      "4\n",
      "6\n",
      "8\n",
      "10\n",
      "[1, 9, 25, 49, 81]\n"
     ]
    }
   ],
   "source": [
    "L = []\n",
    "for i in range(1,10,2):\n",
    "    print(i+1)\n",
    "    L.append(i**2)\n",
    "print(L)\n"
   ]
  },
  {
   "cell_type": "code",
   "execution_count": 32,
   "metadata": {},
   "outputs": [
    {
     "data": {
      "text/plain": [
       "'C:\\\\Users\\\\user'"
      ]
     },
     "execution_count": 32,
     "metadata": {},
     "output_type": "execute_result"
    }
   ],
   "source": [
    "pwd"
   ]
  },
  {
   "cell_type": "code",
   "execution_count": null,
   "metadata": {},
   "outputs": [],
   "source": []
  }
 ],
 "metadata": {
  "kernelspec": {
   "display_name": "Python 3",
   "language": "python",
   "name": "python3"
  },
  "language_info": {
   "codemirror_mode": {
    "name": "ipython",
    "version": 3
   },
   "file_extension": ".py",
   "mimetype": "text/x-python",
   "name": "python",
   "nbconvert_exporter": "python",
   "pygments_lexer": "ipython3",
   "version": "3.8.5"
  }
 },
 "nbformat": 4,
 "nbformat_minor": 4
}
